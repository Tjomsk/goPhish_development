{
 "cells": [
  {
   "cell_type": "code",
   "execution_count": 62,
   "id": "dfcd8da3",
   "metadata": {},
   "outputs": [
    {
     "name": "stdout",
     "output_type": "stream",
     "text": [
      "Requirement already satisfied: tld in c:\\users\\timbadk\\anaconda3\\lib\\site-packages (0.13)\n",
      "Note: you may need to restart the kernel to use updated packages.\n"
     ]
    }
   ],
   "source": [
    "pip install tld"
   ]
  },
  {
   "cell_type": "markdown",
   "id": "879036d8",
   "metadata": {},
   "source": [
    "# GoPhish feature extraction"
   ]
  },
  {
   "cell_type": "markdown",
   "id": "0655c6f3",
   "metadata": {},
   "source": [
    "### Importing libraries"
   ]
  },
  {
   "cell_type": "code",
   "execution_count": 63,
   "id": "5ecfd0eb",
   "metadata": {},
   "outputs": [],
   "source": [
    "import re #regex\n",
    "import string\n",
    "import logging\n",
    "\n",
    "import numpy as np\n",
    "import pandas as pd\n",
    "import seaborn as sns\n",
    "import matplotlib.pyplot as plt\n",
    "\n",
    "from tldextract import extract as tld_extract\n",
    "from tld import get_tld, is_tld\n",
    "from tld.exceptions import TldDomainNotFound, TldBadUrl, TldIOError"
   ]
  },
  {
   "cell_type": "markdown",
   "id": "44fe5f5c",
   "metadata": {},
   "source": [
    "### Importing csv file"
   ]
  },
  {
   "cell_type": "markdown",
   "id": "c0ab43bc",
   "metadata": {},
   "source": [
    "Edited csv file to only show a value for 1 if the url is malicious, defaced or has malware. The URL will be marked as 0 if it is benign"
   ]
  },
  {
   "cell_type": "code",
   "execution_count": 64,
   "id": "35475f24",
   "metadata": {},
   "outputs": [
    {
     "data": {
      "text/html": [
       "<div>\n",
       "<style scoped>\n",
       "    .dataframe tbody tr th:only-of-type {\n",
       "        vertical-align: middle;\n",
       "    }\n",
       "\n",
       "    .dataframe tbody tr th {\n",
       "        vertical-align: top;\n",
       "    }\n",
       "\n",
       "    .dataframe thead th {\n",
       "        text-align: right;\n",
       "    }\n",
       "</style>\n",
       "<table border=\"1\" class=\"dataframe\">\n",
       "  <thead>\n",
       "    <tr style=\"text-align: right;\">\n",
       "      <th></th>\n",
       "      <th>url</th>\n",
       "      <th>type</th>\n",
       "    </tr>\n",
       "  </thead>\n",
       "  <tbody>\n",
       "    <tr>\n",
       "      <th>0</th>\n",
       "      <td>br-icloud.com.br</td>\n",
       "      <td>1</td>\n",
       "    </tr>\n",
       "    <tr>\n",
       "      <th>1</th>\n",
       "      <td>mp3raid.com/music/krizz_kaliko.html</td>\n",
       "      <td>0</td>\n",
       "    </tr>\n",
       "    <tr>\n",
       "      <th>2</th>\n",
       "      <td>bopsecrets.org/rexroth/cr/1.htm</td>\n",
       "      <td>0</td>\n",
       "    </tr>\n",
       "    <tr>\n",
       "      <th>3</th>\n",
       "      <td>http://www.garage-pirenne.be/index.php?option=...</td>\n",
       "      <td>1</td>\n",
       "    </tr>\n",
       "    <tr>\n",
       "      <th>4</th>\n",
       "      <td>http://adventure-nicaragua.net/index.php?optio...</td>\n",
       "      <td>1</td>\n",
       "    </tr>\n",
       "  </tbody>\n",
       "</table>\n",
       "</div>"
      ],
      "text/plain": [
       "                                                 url  type\n",
       "0                                   br-icloud.com.br     1\n",
       "1                mp3raid.com/music/krizz_kaliko.html     0\n",
       "2                    bopsecrets.org/rexroth/cr/1.htm     0\n",
       "3  http://www.garage-pirenne.be/index.php?option=...     1\n",
       "4  http://adventure-nicaragua.net/index.php?optio...     1"
      ]
     },
     "execution_count": 64,
     "metadata": {},
     "output_type": "execute_result"
    }
   ],
   "source": [
    "url_data = pd.read_csv('goPhish_url_data.csv')\n",
    "url_data.head()"
   ]
  },
  {
   "cell_type": "code",
   "execution_count": 65,
   "id": "95833308",
   "metadata": {},
   "outputs": [
    {
     "name": "stdout",
     "output_type": "stream",
     "text": [
      "<class 'pandas.core.frame.DataFrame'>\n",
      "RangeIndex: 651191 entries, 0 to 651190\n",
      "Data columns (total 2 columns):\n",
      " #   Column  Non-Null Count   Dtype \n",
      "---  ------  --------------   ----- \n",
      " 0   url     651191 non-null  object\n",
      " 1   type    651191 non-null  int64 \n",
      "dtypes: int64(1), object(1)\n",
      "memory usage: 9.9+ MB\n"
     ]
    }
   ],
   "source": [
    "url_data.info() #Displaying some information about the csv"
   ]
  },
  {
   "cell_type": "markdown",
   "id": "0572f92f",
   "metadata": {},
   "source": [
    "### Checking for null values in dataset"
   ]
  },
  {
   "cell_type": "code",
   "execution_count": 66,
   "id": "4c7e4e31",
   "metadata": {},
   "outputs": [
    {
     "data": {
      "text/plain": [
       "url     0\n",
       "type    0\n",
       "dtype: int64"
      ]
     },
     "execution_count": 66,
     "metadata": {},
     "output_type": "execute_result"
    }
   ],
   "source": [
    "url_data.isnull().sum() #isnull() returns boolean value, .sum() returns the sum of the values"
   ]
  },
  {
   "cell_type": "markdown",
   "id": "e4b4733c",
   "metadata": {},
   "source": [
    "### Extracting count of each value"
   ]
  },
  {
   "cell_type": "code",
   "execution_count": 67,
   "id": "b7768a58",
   "metadata": {},
   "outputs": [
    {
     "name": "stdout",
     "output_type": "stream",
     "text": [
      "type\n",
      "0    428103\n",
      "1    223088\n",
      "Name: count, dtype: int64\n"
     ]
    }
   ],
   "source": [
    "count = url_data['type'].value_counts()\n",
    "print(count)"
   ]
  },
  {
   "cell_type": "markdown",
   "id": "cdd03b61",
   "metadata": {},
   "source": [
    "### Normalising the data"
   ]
  },
  {
   "cell_type": "markdown",
   "id": "cd944c82",
   "metadata": {},
   "source": [
    "Removing 'www.' from the url to normalise the data and extract the featues necessary to detect. \n",
    "\n",
    "- 'regex=True' uses the regular expression pattern to find the 'www.' in the whole url string, otherwise it would only find the first instance in the string"
   ]
  },
  {
   "cell_type": "code",
   "execution_count": 68,
   "id": "344a65db",
   "metadata": {},
   "outputs": [],
   "source": [
    "url_data['url'] = url_data['url'].replace('www.','', regex=True)"
   ]
  },
  {
   "cell_type": "code",
   "execution_count": 69,
   "id": "d1650863",
   "metadata": {},
   "outputs": [
    {
     "data": {
      "text/html": [
       "<div>\n",
       "<style scoped>\n",
       "    .dataframe tbody tr th:only-of-type {\n",
       "        vertical-align: middle;\n",
       "    }\n",
       "\n",
       "    .dataframe tbody tr th {\n",
       "        vertical-align: top;\n",
       "    }\n",
       "\n",
       "    .dataframe thead th {\n",
       "        text-align: right;\n",
       "    }\n",
       "</style>\n",
       "<table border=\"1\" class=\"dataframe\">\n",
       "  <thead>\n",
       "    <tr style=\"text-align: right;\">\n",
       "      <th></th>\n",
       "      <th>url</th>\n",
       "      <th>type</th>\n",
       "    </tr>\n",
       "  </thead>\n",
       "  <tbody>\n",
       "    <tr>\n",
       "      <th>0</th>\n",
       "      <td>br-icloud.com.br</td>\n",
       "      <td>1</td>\n",
       "    </tr>\n",
       "    <tr>\n",
       "      <th>1</th>\n",
       "      <td>mp3raid.com/music/krizz_kaliko.html</td>\n",
       "      <td>0</td>\n",
       "    </tr>\n",
       "    <tr>\n",
       "      <th>2</th>\n",
       "      <td>bopsecrets.org/rexroth/cr/1.htm</td>\n",
       "      <td>0</td>\n",
       "    </tr>\n",
       "    <tr>\n",
       "      <th>3</th>\n",
       "      <td>http://garage-pirenne.be/index.php?option=com_...</td>\n",
       "      <td>1</td>\n",
       "    </tr>\n",
       "    <tr>\n",
       "      <th>4</th>\n",
       "      <td>http://adventure-nicaragua.net/index.php?optio...</td>\n",
       "      <td>1</td>\n",
       "    </tr>\n",
       "  </tbody>\n",
       "</table>\n",
       "</div>"
      ],
      "text/plain": [
       "                                                 url  type\n",
       "0                                   br-icloud.com.br     1\n",
       "1                mp3raid.com/music/krizz_kaliko.html     0\n",
       "2                    bopsecrets.org/rexroth/cr/1.htm     0\n",
       "3  http://garage-pirenne.be/index.php?option=com_...     1\n",
       "4  http://adventure-nicaragua.net/index.php?optio...     1"
      ]
     },
     "execution_count": 69,
     "metadata": {},
     "output_type": "execute_result"
    }
   ],
   "source": [
    "url_data.head()"
   ]
  },
  {
   "cell_type": "code",
   "execution_count": 70,
   "id": "7ee9ace7",
   "metadata": {},
   "outputs": [
    {
     "data": {
      "text/plain": [
       "type\n",
       "0    428103\n",
       "1    223088\n",
       "Name: count, dtype: int64"
      ]
     },
     "execution_count": 70,
     "metadata": {},
     "output_type": "execute_result"
    }
   ],
   "source": [
    "url_data[\"type\"].value_counts()"
   ]
  },
  {
   "cell_type": "markdown",
   "id": "b6832539",
   "metadata": {},
   "source": [
    "### Extracting url length"
   ]
  },
  {
   "cell_type": "code",
   "execution_count": 71,
   "id": "274af13f",
   "metadata": {},
   "outputs": [],
   "source": [
    "def get_url_length(url):\n",
    "    prefixes = ['http://','https://'] #Defining common prefixes for URLs\n",
    "    \n",
    "    for prefix in prefixes: #Loop to exclude prefix in length of URL\n",
    "        if url.startswith(prefix):\n",
    "            url = url[len(prefix):]\n",
    "    \n",
    "    url = url.replace('www.','')\n",
    "    \n",
    "    return len(url)"
   ]
  },
  {
   "cell_type": "code",
   "execution_count": 72,
   "id": "a07066b3",
   "metadata": {},
   "outputs": [],
   "source": [
    "url_data['url_len'] = url_data['url'].apply(lambda x: get_url_length(str(x))) #Adding column to show URL length"
   ]
  },
  {
   "cell_type": "code",
   "execution_count": 73,
   "id": "bc6bbd23",
   "metadata": {},
   "outputs": [
    {
     "data": {
      "text/html": [
       "<div>\n",
       "<style scoped>\n",
       "    .dataframe tbody tr th:only-of-type {\n",
       "        vertical-align: middle;\n",
       "    }\n",
       "\n",
       "    .dataframe tbody tr th {\n",
       "        vertical-align: top;\n",
       "    }\n",
       "\n",
       "    .dataframe thead th {\n",
       "        text-align: right;\n",
       "    }\n",
       "</style>\n",
       "<table border=\"1\" class=\"dataframe\">\n",
       "  <thead>\n",
       "    <tr style=\"text-align: right;\">\n",
       "      <th></th>\n",
       "      <th>url</th>\n",
       "      <th>type</th>\n",
       "      <th>url_len</th>\n",
       "    </tr>\n",
       "  </thead>\n",
       "  <tbody>\n",
       "    <tr>\n",
       "      <th>0</th>\n",
       "      <td>br-icloud.com.br</td>\n",
       "      <td>1</td>\n",
       "      <td>16</td>\n",
       "    </tr>\n",
       "    <tr>\n",
       "      <th>1</th>\n",
       "      <td>mp3raid.com/music/krizz_kaliko.html</td>\n",
       "      <td>0</td>\n",
       "      <td>35</td>\n",
       "    </tr>\n",
       "    <tr>\n",
       "      <th>2</th>\n",
       "      <td>bopsecrets.org/rexroth/cr/1.htm</td>\n",
       "      <td>0</td>\n",
       "      <td>31</td>\n",
       "    </tr>\n",
       "    <tr>\n",
       "      <th>3</th>\n",
       "      <td>http://garage-pirenne.be/index.php?option=com_...</td>\n",
       "      <td>1</td>\n",
       "      <td>77</td>\n",
       "    </tr>\n",
       "    <tr>\n",
       "      <th>4</th>\n",
       "      <td>http://adventure-nicaragua.net/index.php?optio...</td>\n",
       "      <td>1</td>\n",
       "      <td>228</td>\n",
       "    </tr>\n",
       "  </tbody>\n",
       "</table>\n",
       "</div>"
      ],
      "text/plain": [
       "                                                 url  type  url_len\n",
       "0                                   br-icloud.com.br     1       16\n",
       "1                mp3raid.com/music/krizz_kaliko.html     0       35\n",
       "2                    bopsecrets.org/rexroth/cr/1.htm     0       31\n",
       "3  http://garage-pirenne.be/index.php?option=com_...     1       77\n",
       "4  http://adventure-nicaragua.net/index.php?optio...     1      228"
      ]
     },
     "execution_count": 73,
     "metadata": {},
     "output_type": "execute_result"
    }
   ],
   "source": [
    "url_data.head()"
   ]
  },
  {
   "cell_type": "markdown",
   "id": "d16175a2",
   "metadata": {},
   "source": [
    "### Extracting top level domain"
   ]
  },
  {
   "cell_type": "markdown",
   "id": "58e12b1a",
   "metadata": {},
   "source": [
    "Extracting the top level domain from the url using the tld module\n",
    "\n",
    "- 'as_object = true' instructs the function to return a parsed url object\n",
    "- Cells ran with no error but domains are not found. This could be for multiple reasons. Most likely the domain does not exist on the internet anymore"
   ]
  },
  {
   "cell_type": "code",
   "execution_count": 74,
   "id": "2c7fbd93",
   "metadata": {},
   "outputs": [],
   "source": [
    "def extract_tld(url):\n",
    "    try:\n",
    "        res = get_tld(url, as_object = True, fail_silenty = False, fix_protocol = True)\n",
    "        pri_domain = res.parsed_url.netloc\n",
    "    except:\n",
    "        pri_domain = None\n",
    "    return pri_domain"
   ]
  },
  {
   "cell_type": "code",
   "execution_count": 75,
   "id": "e91b7baf",
   "metadata": {},
   "outputs": [],
   "source": [
    "url_data['domain'] = url_data['url'].apply(lambda x: extract_tld(x))"
   ]
  },
  {
   "cell_type": "code",
   "execution_count": 76,
   "id": "0e865f46",
   "metadata": {},
   "outputs": [
    {
     "data": {
      "text/html": [
       "<div>\n",
       "<style scoped>\n",
       "    .dataframe tbody tr th:only-of-type {\n",
       "        vertical-align: middle;\n",
       "    }\n",
       "\n",
       "    .dataframe tbody tr th {\n",
       "        vertical-align: top;\n",
       "    }\n",
       "\n",
       "    .dataframe thead th {\n",
       "        text-align: right;\n",
       "    }\n",
       "</style>\n",
       "<table border=\"1\" class=\"dataframe\">\n",
       "  <thead>\n",
       "    <tr style=\"text-align: right;\">\n",
       "      <th></th>\n",
       "      <th>url</th>\n",
       "      <th>type</th>\n",
       "      <th>url_len</th>\n",
       "      <th>domain</th>\n",
       "    </tr>\n",
       "  </thead>\n",
       "  <tbody>\n",
       "    <tr>\n",
       "      <th>0</th>\n",
       "      <td>br-icloud.com.br</td>\n",
       "      <td>1</td>\n",
       "      <td>16</td>\n",
       "      <td>None</td>\n",
       "    </tr>\n",
       "    <tr>\n",
       "      <th>1</th>\n",
       "      <td>mp3raid.com/music/krizz_kaliko.html</td>\n",
       "      <td>0</td>\n",
       "      <td>35</td>\n",
       "      <td>None</td>\n",
       "    </tr>\n",
       "    <tr>\n",
       "      <th>2</th>\n",
       "      <td>bopsecrets.org/rexroth/cr/1.htm</td>\n",
       "      <td>0</td>\n",
       "      <td>31</td>\n",
       "      <td>None</td>\n",
       "    </tr>\n",
       "    <tr>\n",
       "      <th>3</th>\n",
       "      <td>http://garage-pirenne.be/index.php?option=com_...</td>\n",
       "      <td>1</td>\n",
       "      <td>77</td>\n",
       "      <td>None</td>\n",
       "    </tr>\n",
       "    <tr>\n",
       "      <th>4</th>\n",
       "      <td>http://adventure-nicaragua.net/index.php?optio...</td>\n",
       "      <td>1</td>\n",
       "      <td>228</td>\n",
       "      <td>None</td>\n",
       "    </tr>\n",
       "  </tbody>\n",
       "</table>\n",
       "</div>"
      ],
      "text/plain": [
       "                                                 url  type  url_len domain\n",
       "0                                   br-icloud.com.br     1       16   None\n",
       "1                mp3raid.com/music/krizz_kaliko.html     0       35   None\n",
       "2                    bopsecrets.org/rexroth/cr/1.htm     0       31   None\n",
       "3  http://garage-pirenne.be/index.php?option=com_...     1       77   None\n",
       "4  http://adventure-nicaragua.net/index.php?optio...     1      228   None"
      ]
     },
     "execution_count": 76,
     "metadata": {},
     "output_type": "execute_result"
    }
   ],
   "source": [
    "url_data.head()"
   ]
  },
  {
   "cell_type": "markdown",
   "id": "277d225b",
   "metadata": {},
   "source": [
    "### Extracting character type and count"
   ]
  },
  {
   "cell_type": "markdown",
   "id": "fa7fa7d7",
   "metadata": {},
   "source": [
    "This involves a few functions that extract 3 different values of the url.\n",
    "\n",
    "- Count of letters\n",
    "- Count of digits\n",
    "- Count of special characters\n",
    "- Lastly, there will be a list of each of the special characters to identify which ones have been used and if they are suspicious"
   ]
  },
  {
   "cell_type": "code",
   "execution_count": null,
   "id": "7368a529",
   "metadata": {},
   "outputs": [],
   "source": [
    "def count_letters(url)\n",
    "    num_letters = sum(char.isalpha() for char in url)\n",
    "    return num_letters"
   ]
  }
 ],
 "metadata": {
  "kernelspec": {
   "display_name": "Python 3 (ipykernel)",
   "language": "python",
   "name": "python3"
  },
  "language_info": {
   "codemirror_mode": {
    "name": "ipython",
    "version": 3
   },
   "file_extension": ".py",
   "mimetype": "text/x-python",
   "name": "python",
   "nbconvert_exporter": "python",
   "pygments_lexer": "ipython3",
   "version": "3.11.5"
  }
 },
 "nbformat": 4,
 "nbformat_minor": 5
}
