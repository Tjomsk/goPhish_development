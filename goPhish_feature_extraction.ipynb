{
 "cells": [
  {
   "cell_type": "markdown",
   "id": "185fc698",
   "metadata": {},
   "source": [
    "# GoPhish feature extraction"
   ]
  },
  {
   "cell_type": "markdown",
   "id": "cf2e6046",
   "metadata": {},
   "source": [
    "### Importing libraries"
   ]
  },
  {
   "cell_type": "code",
   "execution_count": 9,
   "id": "ab8a48eb",
   "metadata": {},
   "outputs": [],
   "source": [
    "import re #regex\n",
    "import string\n",
    "import logging\n",
    "\n",
    "import numpy as np\n",
    "import pandas as pd\n",
    "import seaborn as sns\n",
    "import matplotlib.pyplot as plt"
   ]
  },
  {
   "cell_type": "markdown",
   "id": "cfce26dc",
   "metadata": {},
   "source": [
    "### Importing csv file"
   ]
  },
  {
   "cell_type": "markdown",
   "id": "f9c4971f",
   "metadata": {},
   "source": [
    "Edited csv file to only show a value for 1 if the url is malicious, defaced or has malware. The URL will be marked as 0 if it is benign"
   ]
  },
  {
   "cell_type": "code",
   "execution_count": 10,
   "id": "ca3d6b2a",
   "metadata": {},
   "outputs": [
    {
     "data": {
      "text/html": [
       "<div>\n",
       "<style scoped>\n",
       "    .dataframe tbody tr th:only-of-type {\n",
       "        vertical-align: middle;\n",
       "    }\n",
       "\n",
       "    .dataframe tbody tr th {\n",
       "        vertical-align: top;\n",
       "    }\n",
       "\n",
       "    .dataframe thead th {\n",
       "        text-align: right;\n",
       "    }\n",
       "</style>\n",
       "<table border=\"1\" class=\"dataframe\">\n",
       "  <thead>\n",
       "    <tr style=\"text-align: right;\">\n",
       "      <th></th>\n",
       "      <th>url</th>\n",
       "      <th>type</th>\n",
       "    </tr>\n",
       "  </thead>\n",
       "  <tbody>\n",
       "    <tr>\n",
       "      <th>0</th>\n",
       "      <td>br-icloud.com.br</td>\n",
       "      <td>1</td>\n",
       "    </tr>\n",
       "    <tr>\n",
       "      <th>1</th>\n",
       "      <td>mp3raid.com/music/krizz_kaliko.html</td>\n",
       "      <td>0</td>\n",
       "    </tr>\n",
       "    <tr>\n",
       "      <th>2</th>\n",
       "      <td>bopsecrets.org/rexroth/cr/1.htm</td>\n",
       "      <td>0</td>\n",
       "    </tr>\n",
       "    <tr>\n",
       "      <th>3</th>\n",
       "      <td>http://www.garage-pirenne.be/index.php?option=...</td>\n",
       "      <td>1</td>\n",
       "    </tr>\n",
       "    <tr>\n",
       "      <th>4</th>\n",
       "      <td>http://adventure-nicaragua.net/index.php?optio...</td>\n",
       "      <td>1</td>\n",
       "    </tr>\n",
       "  </tbody>\n",
       "</table>\n",
       "</div>"
      ],
      "text/plain": [
       "                                                 url  type\n",
       "0                                   br-icloud.com.br     1\n",
       "1                mp3raid.com/music/krizz_kaliko.html     0\n",
       "2                    bopsecrets.org/rexroth/cr/1.htm     0\n",
       "3  http://www.garage-pirenne.be/index.php?option=...     1\n",
       "4  http://adventure-nicaragua.net/index.php?optio...     1"
      ]
     },
     "execution_count": 10,
     "metadata": {},
     "output_type": "execute_result"
    }
   ],
   "source": [
    "url_data = pd.read_csv('goPhish_url_data.csv')\n",
    "url_data.head()"
   ]
  },
  {
   "cell_type": "code",
   "execution_count": 12,
   "id": "1674f748",
   "metadata": {},
   "outputs": [
    {
     "name": "stdout",
     "output_type": "stream",
     "text": [
      "<class 'pandas.core.frame.DataFrame'>\n",
      "RangeIndex: 651191 entries, 0 to 651190\n",
      "Data columns (total 2 columns):\n",
      " #   Column  Non-Null Count   Dtype \n",
      "---  ------  --------------   ----- \n",
      " 0   url     651191 non-null  object\n",
      " 1   type    651191 non-null  int64 \n",
      "dtypes: int64(1), object(1)\n",
      "memory usage: 9.9+ MB\n"
     ]
    }
   ],
   "source": [
    "url_data.info() #Displaying some information about the csv"
   ]
  },
  {
   "cell_type": "markdown",
   "id": "daacaa67",
   "metadata": {},
   "source": [
    "### Checking for null values in dataset"
   ]
  },
  {
   "cell_type": "code",
   "execution_count": 17,
   "id": "7ada1662",
   "metadata": {},
   "outputs": [
    {
     "data": {
      "text/plain": [
       "url     0\n",
       "type    0\n",
       "dtype: int64"
      ]
     },
     "execution_count": 17,
     "metadata": {},
     "output_type": "execute_result"
    }
   ],
   "source": [
    "url_data.isnull().sum() #isnull() returns boolean value, .sum() returns the sum of the values"
   ]
  },
  {
   "cell_type": "markdown",
   "id": "c4517c01",
   "metadata": {},
   "source": [
    "### Extracting count of each value"
   ]
  },
  {
   "cell_type": "code",
   "execution_count": 15,
   "id": "584747cd",
   "metadata": {},
   "outputs": [
    {
     "name": "stdout",
     "output_type": "stream",
     "text": [
      "type\n",
      "0    428103\n",
      "1    223088\n",
      "Name: count, dtype: int64\n"
     ]
    }
   ],
   "source": [
    "count = url_data['type'].value_counts()\n",
    "print(count)"
   ]
  },
  {
   "cell_type": "markdown",
   "id": "1d1b6b68",
   "metadata": {},
   "source": [
    "### Normalising the data"
   ]
  },
  {
   "cell_type": "markdown",
   "id": "5e15dad0",
   "metadata": {},
   "source": [
    "Removing 'www.' from the url to normalise the data and extract the featues necessary to detect. \n",
    "\n",
    "- 'regex=True' uses the regular expression pattern to find the 'www.' in the whole url string, otherwise it would only find the first instance in the string"
   ]
  },
  {
   "cell_type": "code",
   "execution_count": 19,
   "id": "d9c66a46",
   "metadata": {},
   "outputs": [
    {
     "data": {
      "text/html": [
       "<div>\n",
       "<style scoped>\n",
       "    .dataframe tbody tr th:only-of-type {\n",
       "        vertical-align: middle;\n",
       "    }\n",
       "\n",
       "    .dataframe tbody tr th {\n",
       "        vertical-align: top;\n",
       "    }\n",
       "\n",
       "    .dataframe thead th {\n",
       "        text-align: right;\n",
       "    }\n",
       "</style>\n",
       "<table border=\"1\" class=\"dataframe\">\n",
       "  <thead>\n",
       "    <tr style=\"text-align: right;\">\n",
       "      <th></th>\n",
       "      <th>url</th>\n",
       "      <th>type</th>\n",
       "    </tr>\n",
       "  </thead>\n",
       "  <tbody>\n",
       "    <tr>\n",
       "      <th>0</th>\n",
       "      <td>br-icloud.com.br</td>\n",
       "      <td>1</td>\n",
       "    </tr>\n",
       "    <tr>\n",
       "      <th>1</th>\n",
       "      <td>mp3raid.com/music/krizz_kaliko.html</td>\n",
       "      <td>0</td>\n",
       "    </tr>\n",
       "    <tr>\n",
       "      <th>2</th>\n",
       "      <td>bopsecrets.org/rexroth/cr/1.htm</td>\n",
       "      <td>0</td>\n",
       "    </tr>\n",
       "    <tr>\n",
       "      <th>3</th>\n",
       "      <td>garage-pirenne.be/index.php?option=com_content...</td>\n",
       "      <td>1</td>\n",
       "    </tr>\n",
       "    <tr>\n",
       "      <th>4</th>\n",
       "      <td>adventure-nicaragua.net/index.php?option=com_m...</td>\n",
       "      <td>1</td>\n",
       "    </tr>\n",
       "  </tbody>\n",
       "</table>\n",
       "</div>"
      ],
      "text/plain": [
       "                                                 url  type\n",
       "0                                   br-icloud.com.br     1\n",
       "1                mp3raid.com/music/krizz_kaliko.html     0\n",
       "2                    bopsecrets.org/rexroth/cr/1.htm     0\n",
       "3  garage-pirenne.be/index.php?option=com_content...     1\n",
       "4  adventure-nicaragua.net/index.php?option=com_m...     1"
      ]
     },
     "execution_count": 19,
     "metadata": {},
     "output_type": "execute_result"
    }
   ],
   "source": [
    "url_data['url'] = url_data['url'].replace('www.','', regex=True)\n",
    "url_data['url'] = url_data['url'].replace('http://', '', regex=True)\n",
    "url_data['url'] = url_data['url'].replace('https://', '', regex=True)\n",
    "\n",
    "url_data.head()"
   ]
  },
  {
   "cell_type": "code",
   "execution_count": null,
   "id": "54026a8f",
   "metadata": {},
   "outputs": [],
   "source": []
  }
 ],
 "metadata": {
  "kernelspec": {
   "display_name": "Python 3 (ipykernel)",
   "language": "python",
   "name": "python3"
  },
  "language_info": {
   "codemirror_mode": {
    "name": "ipython",
    "version": 3
   },
   "file_extension": ".py",
   "mimetype": "text/x-python",
   "name": "python",
   "nbconvert_exporter": "python",
   "pygments_lexer": "ipython3",
   "version": "3.11.5"
  }
 },
 "nbformat": 4,
 "nbformat_minor": 5
}
