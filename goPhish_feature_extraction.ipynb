{
 "cells": [
  {
   "cell_type": "code",
   "execution_count": 6,
   "id": "26b10045",
   "metadata": {},
   "outputs": [
    {
     "name": "stdout",
     "output_type": "stream",
     "text": [
      "Collecting tld\n",
      "  Downloading tld-0.13-py2.py3-none-any.whl (263 kB)\n",
      "     -------------------------------------- 263.8/263.8 kB 2.7 MB/s eta 0:00:00\n",
      "Installing collected packages: tld\n",
      "Successfully installed tld-0.13\n",
      "Note: you may need to restart the kernel to use updated packages.\n"
     ]
    }
   ],
   "source": [
    "pip install tld"
   ]
  },
  {
   "cell_type": "markdown",
   "id": "879036d8",
   "metadata": {},
   "source": [
    "# GoPhish feature extraction"
   ]
  },
  {
   "cell_type": "markdown",
   "id": "0655c6f3",
   "metadata": {},
   "source": [
    "### Importing libraries"
   ]
  },
  {
   "cell_type": "code",
   "execution_count": 7,
   "id": "f84e47f8",
   "metadata": {},
   "outputs": [],
   "source": [
    "import re #regex\n",
    "import numpy as np\n",
    "import pandas as pd\n",
    "import seaborn as sns\n",
    "import matplotlib.pyplot as plt\n",
    "from colorama import Fore\n",
    "from urllib.parse import urlparse\n",
    "from sklearn.model_selection import train_test_split\n",
    "from sklearn.metrics import confusion_matrix, classification_report, accuracy_score\n",
    "from sklearn.tree import DecisionTreeClassifier\n",
    "from sklearn.ensemble import RandomForestClassifier, AdaBoostClassifier, ExtraTreesClassifier\n",
    "from sklearn.neighbors import KNeighborsClassifier\n",
    "from sklearn.linear_model import SGDClassifier\n",
    "from sklearn.naive_bayes import GaussianNB\n",
    "from tld import get_tld, is_tld"
   ]
  },
  {
   "cell_type": "markdown",
   "id": "44fe5f5c",
   "metadata": {},
   "source": [
    "### Importing csv file"
   ]
  },
  {
   "cell_type": "markdown",
   "id": "c0ab43bc",
   "metadata": {},
   "source": [
    "Edited csv file to only show a value for 1 if the url is malicious, defaced or has malware. The URL will be marked as 0 if it is benign"
   ]
  },
  {
   "cell_type": "code",
   "execution_count": 8,
   "id": "35475f24",
   "metadata": {},
   "outputs": [
    {
     "data": {
      "text/html": [
       "<div>\n",
       "<style scoped>\n",
       "    .dataframe tbody tr th:only-of-type {\n",
       "        vertical-align: middle;\n",
       "    }\n",
       "\n",
       "    .dataframe tbody tr th {\n",
       "        vertical-align: top;\n",
       "    }\n",
       "\n",
       "    .dataframe thead th {\n",
       "        text-align: right;\n",
       "    }\n",
       "</style>\n",
       "<table border=\"1\" class=\"dataframe\">\n",
       "  <thead>\n",
       "    <tr style=\"text-align: right;\">\n",
       "      <th></th>\n",
       "      <th>url</th>\n",
       "      <th>type</th>\n",
       "    </tr>\n",
       "  </thead>\n",
       "  <tbody>\n",
       "    <tr>\n",
       "      <th>0</th>\n",
       "      <td>br-icloud.com.br</td>\n",
       "      <td>1</td>\n",
       "    </tr>\n",
       "    <tr>\n",
       "      <th>1</th>\n",
       "      <td>mp3raid.com/music/krizz_kaliko.html</td>\n",
       "      <td>0</td>\n",
       "    </tr>\n",
       "    <tr>\n",
       "      <th>2</th>\n",
       "      <td>bopsecrets.org/rexroth/cr/1.htm</td>\n",
       "      <td>0</td>\n",
       "    </tr>\n",
       "    <tr>\n",
       "      <th>3</th>\n",
       "      <td>http://www.garage-pirenne.be/index.php?option=...</td>\n",
       "      <td>1</td>\n",
       "    </tr>\n",
       "    <tr>\n",
       "      <th>4</th>\n",
       "      <td>http://adventure-nicaragua.net/index.php?optio...</td>\n",
       "      <td>1</td>\n",
       "    </tr>\n",
       "  </tbody>\n",
       "</table>\n",
       "</div>"
      ],
      "text/plain": [
       "                                                 url  type\n",
       "0                                   br-icloud.com.br     1\n",
       "1                mp3raid.com/music/krizz_kaliko.html     0\n",
       "2                    bopsecrets.org/rexroth/cr/1.htm     0\n",
       "3  http://www.garage-pirenne.be/index.php?option=...     1\n",
       "4  http://adventure-nicaragua.net/index.php?optio...     1"
      ]
     },
     "execution_count": 8,
     "metadata": {},
     "output_type": "execute_result"
    }
   ],
   "source": [
    "url_data = pd.read_csv('goPhish_url_data.csv') #reading data\n",
    "url_data.head()"
   ]
  },
  {
   "cell_type": "code",
   "execution_count": 9,
   "id": "95833308",
   "metadata": {},
   "outputs": [
    {
     "name": "stdout",
     "output_type": "stream",
     "text": [
      "<class 'pandas.core.frame.DataFrame'>\n",
      "RangeIndex: 651191 entries, 0 to 651190\n",
      "Data columns (total 2 columns):\n",
      " #   Column  Non-Null Count   Dtype \n",
      "---  ------  --------------   ----- \n",
      " 0   url     651191 non-null  object\n",
      " 1   type    651191 non-null  int64 \n",
      "dtypes: int64(1), object(1)\n",
      "memory usage: 9.9+ MB\n"
     ]
    }
   ],
   "source": [
    "url_data.info() #Displaying some information about the csv"
   ]
  },
  {
   "cell_type": "markdown",
   "id": "0572f92f",
   "metadata": {},
   "source": [
    "### Checking for null values in dataset"
   ]
  },
  {
   "cell_type": "code",
   "execution_count": 10,
   "id": "4c7e4e31",
   "metadata": {},
   "outputs": [
    {
     "data": {
      "text/plain": [
       "url     0\n",
       "type    0\n",
       "dtype: int64"
      ]
     },
     "execution_count": 10,
     "metadata": {},
     "output_type": "execute_result"
    }
   ],
   "source": [
    "url_data.isnull().sum() #isnull() returns boolean value, .sum() returns the sum of the values"
   ]
  },
  {
   "cell_type": "markdown",
   "id": "e4b4733c",
   "metadata": {},
   "source": [
    "### Extracting count of each value"
   ]
  },
  {
   "cell_type": "code",
   "execution_count": 11,
   "id": "b7768a58",
   "metadata": {},
   "outputs": [
    {
     "name": "stdout",
     "output_type": "stream",
     "text": [
      "0    428103\n",
      "1    223088\n",
      "Name: type, dtype: int64\n"
     ]
    }
   ],
   "source": [
    "count = url_data['type'].value_counts()\n",
    "print(count)"
   ]
  },
  {
   "cell_type": "markdown",
   "id": "cdd03b61",
   "metadata": {},
   "source": [
    "### Normalising the data"
   ]
  },
  {
   "cell_type": "markdown",
   "id": "cd944c82",
   "metadata": {},
   "source": [
    "Removing 'www.' from the url to normalise the data and extract the featues necessary to detect. \n",
    "\n",
    "- 'regex=True' uses the regular expression pattern to find the 'www.' in the whole url string, otherwise it would only find the first instance in the string"
   ]
  },
  {
   "cell_type": "code",
   "execution_count": 12,
   "id": "344a65db",
   "metadata": {},
   "outputs": [],
   "source": [
    "url_data['url'] = url_data['url'].replace('www.','', regex=True) #replacing www"
   ]
  },
  {
   "cell_type": "code",
   "execution_count": 13,
   "id": "e9f67dbf",
   "metadata": {},
   "outputs": [
    {
     "data": {
      "text/html": [
       "<div>\n",
       "<style scoped>\n",
       "    .dataframe tbody tr th:only-of-type {\n",
       "        vertical-align: middle;\n",
       "    }\n",
       "\n",
       "    .dataframe tbody tr th {\n",
       "        vertical-align: top;\n",
       "    }\n",
       "\n",
       "    .dataframe thead th {\n",
       "        text-align: right;\n",
       "    }\n",
       "</style>\n",
       "<table border=\"1\" class=\"dataframe\">\n",
       "  <thead>\n",
       "    <tr style=\"text-align: right;\">\n",
       "      <th></th>\n",
       "      <th>url</th>\n",
       "      <th>type</th>\n",
       "    </tr>\n",
       "  </thead>\n",
       "  <tbody>\n",
       "    <tr>\n",
       "      <th>0</th>\n",
       "      <td>br-icloud.com.br</td>\n",
       "      <td>1</td>\n",
       "    </tr>\n",
       "    <tr>\n",
       "      <th>1</th>\n",
       "      <td>mp3raid.com/music/krizz_kaliko.html</td>\n",
       "      <td>0</td>\n",
       "    </tr>\n",
       "    <tr>\n",
       "      <th>2</th>\n",
       "      <td>bopsecrets.org/rexroth/cr/1.htm</td>\n",
       "      <td>0</td>\n",
       "    </tr>\n",
       "    <tr>\n",
       "      <th>3</th>\n",
       "      <td>http://garage-pirenne.be/index.php?option=com_...</td>\n",
       "      <td>1</td>\n",
       "    </tr>\n",
       "    <tr>\n",
       "      <th>4</th>\n",
       "      <td>http://adventure-nicaragua.net/index.php?optio...</td>\n",
       "      <td>1</td>\n",
       "    </tr>\n",
       "  </tbody>\n",
       "</table>\n",
       "</div>"
      ],
      "text/plain": [
       "                                                 url  type\n",
       "0                                   br-icloud.com.br     1\n",
       "1                mp3raid.com/music/krizz_kaliko.html     0\n",
       "2                    bopsecrets.org/rexroth/cr/1.htm     0\n",
       "3  http://garage-pirenne.be/index.php?option=com_...     1\n",
       "4  http://adventure-nicaragua.net/index.php?optio...     1"
      ]
     },
     "execution_count": 13,
     "metadata": {},
     "output_type": "execute_result"
    }
   ],
   "source": [
    "url_data.head()"
   ]
  },
  {
   "cell_type": "markdown",
   "id": "b6832539",
   "metadata": {},
   "source": [
    "### Extracting url length"
   ]
  },
  {
   "cell_type": "code",
   "execution_count": 14,
   "id": "48c89622",
   "metadata": {},
   "outputs": [],
   "source": [
    "def get_url_length(url):\n",
    "    prefixes = ['http://','https://'] #Defining common prefixes for URLs\n",
    "    \n",
    "    for prefix in prefixes: #Loop to exclude prefix in length of URL\n",
    "        if url.startswith(prefix):\n",
    "            url = url[len(prefix):]\n",
    "    \n",
    "    url = url.replace('www.','')\n",
    "    \n",
    "    return len(url)"
   ]
  },
  {
   "cell_type": "code",
   "execution_count": 15,
   "id": "6ce94dc6",
   "metadata": {},
   "outputs": [],
   "source": [
    "url_data['url_len'] = url_data['url'].apply(lambda x: get_url_length(str(x))) #Adding column to show URL length"
   ]
  },
  {
   "cell_type": "code",
   "execution_count": 16,
   "id": "bc6bbd23",
   "metadata": {},
   "outputs": [
    {
     "data": {
      "text/html": [
       "<div>\n",
       "<style scoped>\n",
       "    .dataframe tbody tr th:only-of-type {\n",
       "        vertical-align: middle;\n",
       "    }\n",
       "\n",
       "    .dataframe tbody tr th {\n",
       "        vertical-align: top;\n",
       "    }\n",
       "\n",
       "    .dataframe thead th {\n",
       "        text-align: right;\n",
       "    }\n",
       "</style>\n",
       "<table border=\"1\" class=\"dataframe\">\n",
       "  <thead>\n",
       "    <tr style=\"text-align: right;\">\n",
       "      <th></th>\n",
       "      <th>url</th>\n",
       "      <th>type</th>\n",
       "      <th>url_len</th>\n",
       "    </tr>\n",
       "  </thead>\n",
       "  <tbody>\n",
       "    <tr>\n",
       "      <th>0</th>\n",
       "      <td>br-icloud.com.br</td>\n",
       "      <td>1</td>\n",
       "      <td>16</td>\n",
       "    </tr>\n",
       "    <tr>\n",
       "      <th>1</th>\n",
       "      <td>mp3raid.com/music/krizz_kaliko.html</td>\n",
       "      <td>0</td>\n",
       "      <td>35</td>\n",
       "    </tr>\n",
       "    <tr>\n",
       "      <th>2</th>\n",
       "      <td>bopsecrets.org/rexroth/cr/1.htm</td>\n",
       "      <td>0</td>\n",
       "      <td>31</td>\n",
       "    </tr>\n",
       "    <tr>\n",
       "      <th>3</th>\n",
       "      <td>http://garage-pirenne.be/index.php?option=com_...</td>\n",
       "      <td>1</td>\n",
       "      <td>77</td>\n",
       "    </tr>\n",
       "    <tr>\n",
       "      <th>4</th>\n",
       "      <td>http://adventure-nicaragua.net/index.php?optio...</td>\n",
       "      <td>1</td>\n",
       "      <td>228</td>\n",
       "    </tr>\n",
       "  </tbody>\n",
       "</table>\n",
       "</div>"
      ],
      "text/plain": [
       "                                                 url  type  url_len\n",
       "0                                   br-icloud.com.br     1       16\n",
       "1                mp3raid.com/music/krizz_kaliko.html     0       35\n",
       "2                    bopsecrets.org/rexroth/cr/1.htm     0       31\n",
       "3  http://garage-pirenne.be/index.php?option=com_...     1       77\n",
       "4  http://adventure-nicaragua.net/index.php?optio...     1      228"
      ]
     },
     "execution_count": 16,
     "metadata": {},
     "output_type": "execute_result"
    }
   ],
   "source": [
    "url_data.head()"
   ]
  },
  {
   "cell_type": "markdown",
   "id": "7d484f20",
   "metadata": {},
   "source": [
    "### Extracting top level domain"
   ]
  },
  {
   "cell_type": "markdown",
   "id": "9303df60",
   "metadata": {},
   "source": [
    "Extracting the top level domain from the url using the tld module\n",
    "\n",
    "- 'as_object = true' instructs the function to return a parsed url object\n",
    "- Cells ran with no error but domains are not found. This could be for multiple reasons. Most likely the domain does not exist on the internet anymore"
   ]
  },
  {
   "cell_type": "markdown",
   "id": "be156473",
   "metadata": {},
   "source": [
    "def extract_tld(url):\n",
    "    try:\n",
    "        res = get_tld(url, as_object = True, fail_silenty = False, fix_protocol = True)\n",
    "        pri_domain = res.parsed_url.netloc\n",
    "    except:\n",
    "        pri_domain = None\n",
    "    return pri_domain"
   ]
  },
  {
   "cell_type": "markdown",
   "id": "07964b71",
   "metadata": {},
   "source": [
    "url_data['domain'] = url_data['url'].apply(lambda x: extract_tld(x))"
   ]
  },
  {
   "cell_type": "markdown",
   "id": "7b54962b",
   "metadata": {},
   "source": [
    "url_data.head()"
   ]
  },
  {
   "cell_type": "markdown",
   "id": "6c48d810",
   "metadata": {},
   "source": [
    "### Extracting character type and count"
   ]
  },
  {
   "cell_type": "markdown",
   "id": "3546c614",
   "metadata": {},
   "source": [
    "This involves a few functions that extract 3 different values of the url.\n",
    "\n",
    "- Count of letters\n",
    "- Count of digits\n",
    "- Count of special characters\n",
    "- Lastly, there will be a list of each of the special characters to identify which ones have been used and if they are suspicious"
   ]
  },
  {
   "cell_type": "code",
   "execution_count": 17,
   "id": "b806a68b",
   "metadata": {},
   "outputs": [],
   "source": [
    "def count_letters(url):\n",
    "    num_letters = sum(char.isalpha() for char in url)\n",
    "    return num_letters\n",
    "\n",
    "def count_digits(url):\n",
    "    num_digits = sum(char.isdigit() for char in url)\n",
    "    return num_digits\n",
    "\n",
    "def count_special_chars(url):\n",
    "    special_chars = set(string.punctuation)\n",
    "    num_special_chars = sum(char in special_chars for char in url)\n",
    "    return num_special_chars"
   ]
  },
  {
   "cell_type": "code",
   "execution_count": 18,
   "id": "8ef27ec7",
   "metadata": {},
   "outputs": [],
   "source": [
    "url_data['letters_count']        = url_data['url'].apply(lambda x: count_letters(x))\n",
    "url_data['digits_count']         = url_data['url'].apply(lambda x: count_digits(x))\n",
    "url_data['special_chars_count']  = url_data['url'].apply(lambda x: count_special_chars(x))"
   ]
  },
  {
   "cell_type": "code",
   "execution_count": 19,
   "id": "7b838030",
   "metadata": {},
   "outputs": [],
   "source": [
    "feature = ['@','?','-','=','.','#','%','+','$','!','*',',','//']\n",
    "for i in feature:\n",
    "    url_data[i] = url_data['url'].apply(lambda x: x.count(i))"
   ]
  },
  {
   "cell_type": "code",
   "execution_count": 20,
   "id": "db3308b0",
   "metadata": {},
   "outputs": [
    {
     "data": {
      "text/html": [
       "<div>\n",
       "<style scoped>\n",
       "    .dataframe tbody tr th:only-of-type {\n",
       "        vertical-align: middle;\n",
       "    }\n",
       "\n",
       "    .dataframe tbody tr th {\n",
       "        vertical-align: top;\n",
       "    }\n",
       "\n",
       "    .dataframe thead th {\n",
       "        text-align: right;\n",
       "    }\n",
       "</style>\n",
       "<table border=\"1\" class=\"dataframe\">\n",
       "  <thead>\n",
       "    <tr style=\"text-align: right;\">\n",
       "      <th></th>\n",
       "      <th>url</th>\n",
       "      <th>type</th>\n",
       "      <th>url_len</th>\n",
       "      <th>letters_count</th>\n",
       "      <th>digits_count</th>\n",
       "      <th>special_chars_count</th>\n",
       "      <th>@</th>\n",
       "      <th>?</th>\n",
       "      <th>-</th>\n",
       "      <th>=</th>\n",
       "      <th>.</th>\n",
       "      <th>#</th>\n",
       "      <th>%</th>\n",
       "      <th>+</th>\n",
       "      <th>$</th>\n",
       "      <th>!</th>\n",
       "      <th>*</th>\n",
       "      <th>,</th>\n",
       "      <th>//</th>\n",
       "    </tr>\n",
       "  </thead>\n",
       "  <tbody>\n",
       "    <tr>\n",
       "      <th>0</th>\n",
       "      <td>br-icloud.com.br</td>\n",
       "      <td>1</td>\n",
       "      <td>16</td>\n",
       "      <td>13</td>\n",
       "      <td>0</td>\n",
       "      <td>3</td>\n",
       "      <td>0</td>\n",
       "      <td>0</td>\n",
       "      <td>1</td>\n",
       "      <td>0</td>\n",
       "      <td>2</td>\n",
       "      <td>0</td>\n",
       "      <td>0</td>\n",
       "      <td>0</td>\n",
       "      <td>0</td>\n",
       "      <td>0</td>\n",
       "      <td>0</td>\n",
       "      <td>0</td>\n",
       "      <td>0</td>\n",
       "    </tr>\n",
       "    <tr>\n",
       "      <th>1</th>\n",
       "      <td>mp3raid.com/music/krizz_kaliko.html</td>\n",
       "      <td>0</td>\n",
       "      <td>35</td>\n",
       "      <td>29</td>\n",
       "      <td>1</td>\n",
       "      <td>5</td>\n",
       "      <td>0</td>\n",
       "      <td>0</td>\n",
       "      <td>0</td>\n",
       "      <td>0</td>\n",
       "      <td>2</td>\n",
       "      <td>0</td>\n",
       "      <td>0</td>\n",
       "      <td>0</td>\n",
       "      <td>0</td>\n",
       "      <td>0</td>\n",
       "      <td>0</td>\n",
       "      <td>0</td>\n",
       "      <td>0</td>\n",
       "    </tr>\n",
       "    <tr>\n",
       "      <th>2</th>\n",
       "      <td>bopsecrets.org/rexroth/cr/1.htm</td>\n",
       "      <td>0</td>\n",
       "      <td>31</td>\n",
       "      <td>25</td>\n",
       "      <td>1</td>\n",
       "      <td>5</td>\n",
       "      <td>0</td>\n",
       "      <td>0</td>\n",
       "      <td>0</td>\n",
       "      <td>0</td>\n",
       "      <td>2</td>\n",
       "      <td>0</td>\n",
       "      <td>0</td>\n",
       "      <td>0</td>\n",
       "      <td>0</td>\n",
       "      <td>0</td>\n",
       "      <td>0</td>\n",
       "      <td>0</td>\n",
       "      <td>0</td>\n",
       "    </tr>\n",
       "    <tr>\n",
       "      <th>3</th>\n",
       "      <td>http://garage-pirenne.be/index.php?option=com_...</td>\n",
       "      <td>1</td>\n",
       "      <td>77</td>\n",
       "      <td>60</td>\n",
       "      <td>7</td>\n",
       "      <td>17</td>\n",
       "      <td>0</td>\n",
       "      <td>1</td>\n",
       "      <td>1</td>\n",
       "      <td>4</td>\n",
       "      <td>2</td>\n",
       "      <td>0</td>\n",
       "      <td>0</td>\n",
       "      <td>0</td>\n",
       "      <td>0</td>\n",
       "      <td>0</td>\n",
       "      <td>0</td>\n",
       "      <td>0</td>\n",
       "      <td>1</td>\n",
       "    </tr>\n",
       "    <tr>\n",
       "      <th>4</th>\n",
       "      <td>http://adventure-nicaragua.net/index.php?optio...</td>\n",
       "      <td>1</td>\n",
       "      <td>228</td>\n",
       "      <td>199</td>\n",
       "      <td>22</td>\n",
       "      <td>14</td>\n",
       "      <td>0</td>\n",
       "      <td>1</td>\n",
       "      <td>1</td>\n",
       "      <td>3</td>\n",
       "      <td>2</td>\n",
       "      <td>0</td>\n",
       "      <td>0</td>\n",
       "      <td>0</td>\n",
       "      <td>0</td>\n",
       "      <td>0</td>\n",
       "      <td>0</td>\n",
       "      <td>0</td>\n",
       "      <td>1</td>\n",
       "    </tr>\n",
       "  </tbody>\n",
       "</table>\n",
       "</div>"
      ],
      "text/plain": [
       "                                                 url  type  url_len  \\\n",
       "0                                   br-icloud.com.br     1       16   \n",
       "1                mp3raid.com/music/krizz_kaliko.html     0       35   \n",
       "2                    bopsecrets.org/rexroth/cr/1.htm     0       31   \n",
       "3  http://garage-pirenne.be/index.php?option=com_...     1       77   \n",
       "4  http://adventure-nicaragua.net/index.php?optio...     1      228   \n",
       "\n",
       "   letters_count  digits_count  special_chars_count  @  ?  -  =  .  #  %  +  \\\n",
       "0             13             0                    3  0  0  1  0  2  0  0  0   \n",
       "1             29             1                    5  0  0  0  0  2  0  0  0   \n",
       "2             25             1                    5  0  0  0  0  2  0  0  0   \n",
       "3             60             7                   17  0  1  1  4  2  0  0  0   \n",
       "4            199            22                   14  0  1  1  3  2  0  0  0   \n",
       "\n",
       "   $  !  *  ,  //  \n",
       "0  0  0  0  0   0  \n",
       "1  0  0  0  0   0  \n",
       "2  0  0  0  0   0  \n",
       "3  0  0  0  0   1  \n",
       "4  0  0  0  0   1  "
      ]
     },
     "execution_count": 20,
     "metadata": {},
     "output_type": "execute_result"
    }
   ],
   "source": [
    "url_data.head()"
   ]
  },
  {
   "cell_type": "markdown",
   "id": "afda09b9",
   "metadata": {},
   "source": [
    "### Identifying shortening services"
   ]
  },
  {
   "cell_type": "markdown",
   "id": "3ad0c6c1",
   "metadata": {},
   "source": [
    "If a shortening service has been used then the next functions will attempt to identify if the url has one attributed"
   ]
  },
  {
   "cell_type": "code",
   "execution_count": 21,
   "id": "41dccc0d",
   "metadata": {},
   "outputs": [],
   "source": [
    "def has_shortening_service(url):\n",
    "    pattern = re.compile(r'https?://(?:www\\.)?(?:\\w+\\.)*(\\w+)\\.\\w+')\n",
    "    match = pattern.search(url)\n",
    "\n",
    "    if match:\n",
    "        domain = match.group(1)\n",
    "        common_shortening_services = ['bit', 'goo', 'tinyurl', 'ow', 't', 'is',\n",
    "                                      'cli', 'yfrog', 'migre', 'ff', 'url4', 'twit',\n",
    "                                      'su', 'snipurl', 'short', 'BudURL', 'ping', \n",
    "                                      'post', 'Just', 'bkite', 'snipr', 'fic', \n",
    "                                      'loopt', 'doiop', 'short', 'kl', 'wp', \n",
    "                                      'rubyurl', 'om', 'to', 'bit', 't', 'lnkd', \n",
    "                                      'db', 'qr', 'adf', 'goo', 'bitly', 'cur', \n",
    "                                      'tinyurl', 'ow', 'bit', 'ity', 'q', 'is', \n",
    "                                      'po', 'bc', 'twitthis', 'u', 'j', 'buzurl', \n",
    "                                      'cutt', 'u', 'yourls', 'x', 'prettylinkpro', \n",
    "                                      'scrnch', 'filoops', 'vzturl', 'qr', '1url', \n",
    "                                      'tweez', 'v', 'tr', 'link', 'zip']\n",
    "        \n",
    "        if domain.lower() in common_shortening_services:\n",
    "            return 1\n",
    "    return 0"
   ]
  },
  {
   "cell_type": "code",
   "execution_count": 22,
   "id": "647e1004",
   "metadata": {},
   "outputs": [],
   "source": [
    "url_data['shortened']  = url_data['url'].apply(lambda x: has_shortening_service(x))"
   ]
  },
  {
   "cell_type": "code",
   "execution_count": 23,
   "id": "ce476767",
   "metadata": {},
   "outputs": [
    {
     "data": {
      "text/html": [
       "<div>\n",
       "<style scoped>\n",
       "    .dataframe tbody tr th:only-of-type {\n",
       "        vertical-align: middle;\n",
       "    }\n",
       "\n",
       "    .dataframe tbody tr th {\n",
       "        vertical-align: top;\n",
       "    }\n",
       "\n",
       "    .dataframe thead th {\n",
       "        text-align: right;\n",
       "    }\n",
       "</style>\n",
       "<table border=\"1\" class=\"dataframe\">\n",
       "  <thead>\n",
       "    <tr style=\"text-align: right;\">\n",
       "      <th></th>\n",
       "      <th>url</th>\n",
       "      <th>type</th>\n",
       "      <th>url_len</th>\n",
       "      <th>letters_count</th>\n",
       "      <th>digits_count</th>\n",
       "      <th>special_chars_count</th>\n",
       "      <th>@</th>\n",
       "      <th>?</th>\n",
       "      <th>-</th>\n",
       "      <th>=</th>\n",
       "      <th>.</th>\n",
       "      <th>#</th>\n",
       "      <th>%</th>\n",
       "      <th>+</th>\n",
       "      <th>$</th>\n",
       "      <th>!</th>\n",
       "      <th>*</th>\n",
       "      <th>,</th>\n",
       "      <th>//</th>\n",
       "      <th>shortened</th>\n",
       "    </tr>\n",
       "  </thead>\n",
       "  <tbody>\n",
       "    <tr>\n",
       "      <th>0</th>\n",
       "      <td>br-icloud.com.br</td>\n",
       "      <td>1</td>\n",
       "      <td>16</td>\n",
       "      <td>13</td>\n",
       "      <td>0</td>\n",
       "      <td>3</td>\n",
       "      <td>0</td>\n",
       "      <td>0</td>\n",
       "      <td>1</td>\n",
       "      <td>0</td>\n",
       "      <td>2</td>\n",
       "      <td>0</td>\n",
       "      <td>0</td>\n",
       "      <td>0</td>\n",
       "      <td>0</td>\n",
       "      <td>0</td>\n",
       "      <td>0</td>\n",
       "      <td>0</td>\n",
       "      <td>0</td>\n",
       "      <td>0</td>\n",
       "    </tr>\n",
       "    <tr>\n",
       "      <th>1</th>\n",
       "      <td>mp3raid.com/music/krizz_kaliko.html</td>\n",
       "      <td>0</td>\n",
       "      <td>35</td>\n",
       "      <td>29</td>\n",
       "      <td>1</td>\n",
       "      <td>5</td>\n",
       "      <td>0</td>\n",
       "      <td>0</td>\n",
       "      <td>0</td>\n",
       "      <td>0</td>\n",
       "      <td>2</td>\n",
       "      <td>0</td>\n",
       "      <td>0</td>\n",
       "      <td>0</td>\n",
       "      <td>0</td>\n",
       "      <td>0</td>\n",
       "      <td>0</td>\n",
       "      <td>0</td>\n",
       "      <td>0</td>\n",
       "      <td>0</td>\n",
       "    </tr>\n",
       "    <tr>\n",
       "      <th>2</th>\n",
       "      <td>bopsecrets.org/rexroth/cr/1.htm</td>\n",
       "      <td>0</td>\n",
       "      <td>31</td>\n",
       "      <td>25</td>\n",
       "      <td>1</td>\n",
       "      <td>5</td>\n",
       "      <td>0</td>\n",
       "      <td>0</td>\n",
       "      <td>0</td>\n",
       "      <td>0</td>\n",
       "      <td>2</td>\n",
       "      <td>0</td>\n",
       "      <td>0</td>\n",
       "      <td>0</td>\n",
       "      <td>0</td>\n",
       "      <td>0</td>\n",
       "      <td>0</td>\n",
       "      <td>0</td>\n",
       "      <td>0</td>\n",
       "      <td>0</td>\n",
       "    </tr>\n",
       "    <tr>\n",
       "      <th>3</th>\n",
       "      <td>http://garage-pirenne.be/index.php?option=com_...</td>\n",
       "      <td>1</td>\n",
       "      <td>77</td>\n",
       "      <td>60</td>\n",
       "      <td>7</td>\n",
       "      <td>17</td>\n",
       "      <td>0</td>\n",
       "      <td>1</td>\n",
       "      <td>1</td>\n",
       "      <td>4</td>\n",
       "      <td>2</td>\n",
       "      <td>0</td>\n",
       "      <td>0</td>\n",
       "      <td>0</td>\n",
       "      <td>0</td>\n",
       "      <td>0</td>\n",
       "      <td>0</td>\n",
       "      <td>0</td>\n",
       "      <td>1</td>\n",
       "      <td>0</td>\n",
       "    </tr>\n",
       "    <tr>\n",
       "      <th>4</th>\n",
       "      <td>http://adventure-nicaragua.net/index.php?optio...</td>\n",
       "      <td>1</td>\n",
       "      <td>228</td>\n",
       "      <td>199</td>\n",
       "      <td>22</td>\n",
       "      <td>14</td>\n",
       "      <td>0</td>\n",
       "      <td>1</td>\n",
       "      <td>1</td>\n",
       "      <td>3</td>\n",
       "      <td>2</td>\n",
       "      <td>0</td>\n",
       "      <td>0</td>\n",
       "      <td>0</td>\n",
       "      <td>0</td>\n",
       "      <td>0</td>\n",
       "      <td>0</td>\n",
       "      <td>0</td>\n",
       "      <td>1</td>\n",
       "      <td>0</td>\n",
       "    </tr>\n",
       "  </tbody>\n",
       "</table>\n",
       "</div>"
      ],
      "text/plain": [
       "                                                 url  type  url_len  \\\n",
       "0                                   br-icloud.com.br     1       16   \n",
       "1                mp3raid.com/music/krizz_kaliko.html     0       35   \n",
       "2                    bopsecrets.org/rexroth/cr/1.htm     0       31   \n",
       "3  http://garage-pirenne.be/index.php?option=com_...     1       77   \n",
       "4  http://adventure-nicaragua.net/index.php?optio...     1      228   \n",
       "\n",
       "   letters_count  digits_count  special_chars_count  @  ?  -  =  .  #  %  +  \\\n",
       "0             13             0                    3  0  0  1  0  2  0  0  0   \n",
       "1             29             1                    5  0  0  0  0  2  0  0  0   \n",
       "2             25             1                    5  0  0  0  0  2  0  0  0   \n",
       "3             60             7                   17  0  1  1  4  2  0  0  0   \n",
       "4            199            22                   14  0  1  1  3  2  0  0  0   \n",
       "\n",
       "   $  !  *  ,  //  shortened  \n",
       "0  0  0  0  0   0          0  \n",
       "1  0  0  0  0   0          0  \n",
       "2  0  0  0  0   0          0  \n",
       "3  0  0  0  0   1          0  \n",
       "4  0  0  0  0   1          0  "
      ]
     },
     "execution_count": 23,
     "metadata": {},
     "output_type": "execute_result"
    }
   ],
   "source": [
    "url_data.head()"
   ]
  },
  {
   "cell_type": "markdown",
   "id": "ed468388",
   "metadata": {},
   "source": [
    "### Checking if network location appears in the url more than once"
   ]
  },
  {
   "cell_type": "code",
   "execution_count": 24,
   "id": "d8b437b2",
   "metadata": {},
   "outputs": [],
   "source": [
    "def abnormal_url(url):\n",
    "    parsed_url = urlparse(url)\n",
    "    netloc = parsed_url.netloc\n",
    "    if netloc:\n",
    "        netloc = str(netloc)\n",
    "        match = re.search(netloc, url)\n",
    "        if match:\n",
    "            return 1\n",
    "        else:\n",
    "            return 0\n",
    "    return 0"
   ]
  },
  {
   "cell_type": "code",
   "execution_count": 25,
   "id": "56f3f6a2",
   "metadata": {},
   "outputs": [],
   "source": [
    "url_data['abnormal_url']  = url_data['url'].apply(lambda x: abnormal_url(x))"
   ]
  },
  {
   "cell_type": "code",
   "execution_count": 26,
   "id": "01843324",
   "metadata": {},
   "outputs": [
    {
     "data": {
      "text/html": [
       "<div>\n",
       "<style scoped>\n",
       "    .dataframe tbody tr th:only-of-type {\n",
       "        vertical-align: middle;\n",
       "    }\n",
       "\n",
       "    .dataframe tbody tr th {\n",
       "        vertical-align: top;\n",
       "    }\n",
       "\n",
       "    .dataframe thead th {\n",
       "        text-align: right;\n",
       "    }\n",
       "</style>\n",
       "<table border=\"1\" class=\"dataframe\">\n",
       "  <thead>\n",
       "    <tr style=\"text-align: right;\">\n",
       "      <th></th>\n",
       "      <th>url</th>\n",
       "      <th>type</th>\n",
       "      <th>url_len</th>\n",
       "      <th>letters_count</th>\n",
       "      <th>digits_count</th>\n",
       "      <th>special_chars_count</th>\n",
       "      <th>@</th>\n",
       "      <th>?</th>\n",
       "      <th>-</th>\n",
       "      <th>=</th>\n",
       "      <th>...</th>\n",
       "      <th>#</th>\n",
       "      <th>%</th>\n",
       "      <th>+</th>\n",
       "      <th>$</th>\n",
       "      <th>!</th>\n",
       "      <th>*</th>\n",
       "      <th>,</th>\n",
       "      <th>//</th>\n",
       "      <th>shortened</th>\n",
       "      <th>abnormal_url</th>\n",
       "    </tr>\n",
       "  </thead>\n",
       "  <tbody>\n",
       "    <tr>\n",
       "      <th>0</th>\n",
       "      <td>br-icloud.com.br</td>\n",
       "      <td>1</td>\n",
       "      <td>16</td>\n",
       "      <td>13</td>\n",
       "      <td>0</td>\n",
       "      <td>3</td>\n",
       "      <td>0</td>\n",
       "      <td>0</td>\n",
       "      <td>1</td>\n",
       "      <td>0</td>\n",
       "      <td>...</td>\n",
       "      <td>0</td>\n",
       "      <td>0</td>\n",
       "      <td>0</td>\n",
       "      <td>0</td>\n",
       "      <td>0</td>\n",
       "      <td>0</td>\n",
       "      <td>0</td>\n",
       "      <td>0</td>\n",
       "      <td>0</td>\n",
       "      <td>0</td>\n",
       "    </tr>\n",
       "    <tr>\n",
       "      <th>1</th>\n",
       "      <td>mp3raid.com/music/krizz_kaliko.html</td>\n",
       "      <td>0</td>\n",
       "      <td>35</td>\n",
       "      <td>29</td>\n",
       "      <td>1</td>\n",
       "      <td>5</td>\n",
       "      <td>0</td>\n",
       "      <td>0</td>\n",
       "      <td>0</td>\n",
       "      <td>0</td>\n",
       "      <td>...</td>\n",
       "      <td>0</td>\n",
       "      <td>0</td>\n",
       "      <td>0</td>\n",
       "      <td>0</td>\n",
       "      <td>0</td>\n",
       "      <td>0</td>\n",
       "      <td>0</td>\n",
       "      <td>0</td>\n",
       "      <td>0</td>\n",
       "      <td>0</td>\n",
       "    </tr>\n",
       "    <tr>\n",
       "      <th>2</th>\n",
       "      <td>bopsecrets.org/rexroth/cr/1.htm</td>\n",
       "      <td>0</td>\n",
       "      <td>31</td>\n",
       "      <td>25</td>\n",
       "      <td>1</td>\n",
       "      <td>5</td>\n",
       "      <td>0</td>\n",
       "      <td>0</td>\n",
       "      <td>0</td>\n",
       "      <td>0</td>\n",
       "      <td>...</td>\n",
       "      <td>0</td>\n",
       "      <td>0</td>\n",
       "      <td>0</td>\n",
       "      <td>0</td>\n",
       "      <td>0</td>\n",
       "      <td>0</td>\n",
       "      <td>0</td>\n",
       "      <td>0</td>\n",
       "      <td>0</td>\n",
       "      <td>0</td>\n",
       "    </tr>\n",
       "    <tr>\n",
       "      <th>3</th>\n",
       "      <td>http://garage-pirenne.be/index.php?option=com_...</td>\n",
       "      <td>1</td>\n",
       "      <td>77</td>\n",
       "      <td>60</td>\n",
       "      <td>7</td>\n",
       "      <td>17</td>\n",
       "      <td>0</td>\n",
       "      <td>1</td>\n",
       "      <td>1</td>\n",
       "      <td>4</td>\n",
       "      <td>...</td>\n",
       "      <td>0</td>\n",
       "      <td>0</td>\n",
       "      <td>0</td>\n",
       "      <td>0</td>\n",
       "      <td>0</td>\n",
       "      <td>0</td>\n",
       "      <td>0</td>\n",
       "      <td>1</td>\n",
       "      <td>0</td>\n",
       "      <td>1</td>\n",
       "    </tr>\n",
       "    <tr>\n",
       "      <th>4</th>\n",
       "      <td>http://adventure-nicaragua.net/index.php?optio...</td>\n",
       "      <td>1</td>\n",
       "      <td>228</td>\n",
       "      <td>199</td>\n",
       "      <td>22</td>\n",
       "      <td>14</td>\n",
       "      <td>0</td>\n",
       "      <td>1</td>\n",
       "      <td>1</td>\n",
       "      <td>3</td>\n",
       "      <td>...</td>\n",
       "      <td>0</td>\n",
       "      <td>0</td>\n",
       "      <td>0</td>\n",
       "      <td>0</td>\n",
       "      <td>0</td>\n",
       "      <td>0</td>\n",
       "      <td>0</td>\n",
       "      <td>1</td>\n",
       "      <td>0</td>\n",
       "      <td>1</td>\n",
       "    </tr>\n",
       "  </tbody>\n",
       "</table>\n",
       "<p>5 rows × 21 columns</p>\n",
       "</div>"
      ],
      "text/plain": [
       "                                                 url  type  url_len  \\\n",
       "0                                   br-icloud.com.br     1       16   \n",
       "1                mp3raid.com/music/krizz_kaliko.html     0       35   \n",
       "2                    bopsecrets.org/rexroth/cr/1.htm     0       31   \n",
       "3  http://garage-pirenne.be/index.php?option=com_...     1       77   \n",
       "4  http://adventure-nicaragua.net/index.php?optio...     1      228   \n",
       "\n",
       "   letters_count  digits_count  special_chars_count  @  ?  -  =  ...  #  %  +  \\\n",
       "0             13             0                    3  0  0  1  0  ...  0  0  0   \n",
       "1             29             1                    5  0  0  0  0  ...  0  0  0   \n",
       "2             25             1                    5  0  0  0  0  ...  0  0  0   \n",
       "3             60             7                   17  0  1  1  4  ...  0  0  0   \n",
       "4            199            22                   14  0  1  1  3  ...  0  0  0   \n",
       "\n",
       "   $  !  *  ,  //  shortened  abnormal_url  \n",
       "0  0  0  0  0   0          0             0  \n",
       "1  0  0  0  0   0          0             0  \n",
       "2  0  0  0  0   0          0             0  \n",
       "3  0  0  0  0   1          0             1  \n",
       "4  0  0  0  0   1          0             1  \n",
       "\n",
       "[5 rows x 21 columns]"
      ]
     },
     "execution_count": 26,
     "metadata": {},
     "output_type": "execute_result"
    }
   ],
   "source": [
    "url_data.head()"
   ]
  },
  {
   "cell_type": "markdown",
   "id": "d6c06d94",
   "metadata": {},
   "source": [
    "### Checking if there is a secure http protocol in the url"
   ]
  },
  {
   "cell_type": "code",
   "execution_count": 27,
   "id": "ba227b31",
   "metadata": {},
   "outputs": [],
   "source": [
    "def secure_http(url):\n",
    "    return int(urlparse(url).scheme == 'https')"
   ]
  },
  {
   "cell_type": "code",
   "execution_count": 28,
   "id": "65944208",
   "metadata": {},
   "outputs": [],
   "source": [
    "url_data['secure_http']  = url_data['url'].apply(lambda x: secure_http(x))"
   ]
  },
  {
   "cell_type": "code",
   "execution_count": 29,
   "id": "cf41c7fa",
   "metadata": {},
   "outputs": [
    {
     "data": {
      "text/html": [
       "<div>\n",
       "<style scoped>\n",
       "    .dataframe tbody tr th:only-of-type {\n",
       "        vertical-align: middle;\n",
       "    }\n",
       "\n",
       "    .dataframe tbody tr th {\n",
       "        vertical-align: top;\n",
       "    }\n",
       "\n",
       "    .dataframe thead th {\n",
       "        text-align: right;\n",
       "    }\n",
       "</style>\n",
       "<table border=\"1\" class=\"dataframe\">\n",
       "  <thead>\n",
       "    <tr style=\"text-align: right;\">\n",
       "      <th></th>\n",
       "      <th>url</th>\n",
       "      <th>type</th>\n",
       "      <th>url_len</th>\n",
       "      <th>letters_count</th>\n",
       "      <th>digits_count</th>\n",
       "      <th>special_chars_count</th>\n",
       "      <th>@</th>\n",
       "      <th>?</th>\n",
       "      <th>-</th>\n",
       "      <th>=</th>\n",
       "      <th>...</th>\n",
       "      <th>%</th>\n",
       "      <th>+</th>\n",
       "      <th>$</th>\n",
       "      <th>!</th>\n",
       "      <th>*</th>\n",
       "      <th>,</th>\n",
       "      <th>//</th>\n",
       "      <th>shortened</th>\n",
       "      <th>abnormal_url</th>\n",
       "      <th>secure_http</th>\n",
       "    </tr>\n",
       "  </thead>\n",
       "  <tbody>\n",
       "    <tr>\n",
       "      <th>0</th>\n",
       "      <td>br-icloud.com.br</td>\n",
       "      <td>1</td>\n",
       "      <td>16</td>\n",
       "      <td>13</td>\n",
       "      <td>0</td>\n",
       "      <td>3</td>\n",
       "      <td>0</td>\n",
       "      <td>0</td>\n",
       "      <td>1</td>\n",
       "      <td>0</td>\n",
       "      <td>...</td>\n",
       "      <td>0</td>\n",
       "      <td>0</td>\n",
       "      <td>0</td>\n",
       "      <td>0</td>\n",
       "      <td>0</td>\n",
       "      <td>0</td>\n",
       "      <td>0</td>\n",
       "      <td>0</td>\n",
       "      <td>0</td>\n",
       "      <td>0</td>\n",
       "    </tr>\n",
       "    <tr>\n",
       "      <th>1</th>\n",
       "      <td>mp3raid.com/music/krizz_kaliko.html</td>\n",
       "      <td>0</td>\n",
       "      <td>35</td>\n",
       "      <td>29</td>\n",
       "      <td>1</td>\n",
       "      <td>5</td>\n",
       "      <td>0</td>\n",
       "      <td>0</td>\n",
       "      <td>0</td>\n",
       "      <td>0</td>\n",
       "      <td>...</td>\n",
       "      <td>0</td>\n",
       "      <td>0</td>\n",
       "      <td>0</td>\n",
       "      <td>0</td>\n",
       "      <td>0</td>\n",
       "      <td>0</td>\n",
       "      <td>0</td>\n",
       "      <td>0</td>\n",
       "      <td>0</td>\n",
       "      <td>0</td>\n",
       "    </tr>\n",
       "    <tr>\n",
       "      <th>2</th>\n",
       "      <td>bopsecrets.org/rexroth/cr/1.htm</td>\n",
       "      <td>0</td>\n",
       "      <td>31</td>\n",
       "      <td>25</td>\n",
       "      <td>1</td>\n",
       "      <td>5</td>\n",
       "      <td>0</td>\n",
       "      <td>0</td>\n",
       "      <td>0</td>\n",
       "      <td>0</td>\n",
       "      <td>...</td>\n",
       "      <td>0</td>\n",
       "      <td>0</td>\n",
       "      <td>0</td>\n",
       "      <td>0</td>\n",
       "      <td>0</td>\n",
       "      <td>0</td>\n",
       "      <td>0</td>\n",
       "      <td>0</td>\n",
       "      <td>0</td>\n",
       "      <td>0</td>\n",
       "    </tr>\n",
       "    <tr>\n",
       "      <th>3</th>\n",
       "      <td>http://garage-pirenne.be/index.php?option=com_...</td>\n",
       "      <td>1</td>\n",
       "      <td>77</td>\n",
       "      <td>60</td>\n",
       "      <td>7</td>\n",
       "      <td>17</td>\n",
       "      <td>0</td>\n",
       "      <td>1</td>\n",
       "      <td>1</td>\n",
       "      <td>4</td>\n",
       "      <td>...</td>\n",
       "      <td>0</td>\n",
       "      <td>0</td>\n",
       "      <td>0</td>\n",
       "      <td>0</td>\n",
       "      <td>0</td>\n",
       "      <td>0</td>\n",
       "      <td>1</td>\n",
       "      <td>0</td>\n",
       "      <td>1</td>\n",
       "      <td>0</td>\n",
       "    </tr>\n",
       "    <tr>\n",
       "      <th>4</th>\n",
       "      <td>http://adventure-nicaragua.net/index.php?optio...</td>\n",
       "      <td>1</td>\n",
       "      <td>228</td>\n",
       "      <td>199</td>\n",
       "      <td>22</td>\n",
       "      <td>14</td>\n",
       "      <td>0</td>\n",
       "      <td>1</td>\n",
       "      <td>1</td>\n",
       "      <td>3</td>\n",
       "      <td>...</td>\n",
       "      <td>0</td>\n",
       "      <td>0</td>\n",
       "      <td>0</td>\n",
       "      <td>0</td>\n",
       "      <td>0</td>\n",
       "      <td>0</td>\n",
       "      <td>1</td>\n",
       "      <td>0</td>\n",
       "      <td>1</td>\n",
       "      <td>0</td>\n",
       "    </tr>\n",
       "  </tbody>\n",
       "</table>\n",
       "<p>5 rows × 22 columns</p>\n",
       "</div>"
      ],
      "text/plain": [
       "                                                 url  type  url_len  \\\n",
       "0                                   br-icloud.com.br     1       16   \n",
       "1                mp3raid.com/music/krizz_kaliko.html     0       35   \n",
       "2                    bopsecrets.org/rexroth/cr/1.htm     0       31   \n",
       "3  http://garage-pirenne.be/index.php?option=com_...     1       77   \n",
       "4  http://adventure-nicaragua.net/index.php?optio...     1      228   \n",
       "\n",
       "   letters_count  digits_count  special_chars_count  @  ?  -  =  ...  %  +  $  \\\n",
       "0             13             0                    3  0  0  1  0  ...  0  0  0   \n",
       "1             29             1                    5  0  0  0  0  ...  0  0  0   \n",
       "2             25             1                    5  0  0  0  0  ...  0  0  0   \n",
       "3             60             7                   17  0  1  1  4  ...  0  0  0   \n",
       "4            199            22                   14  0  1  1  3  ...  0  0  0   \n",
       "\n",
       "   !  *  ,  //  shortened  abnormal_url  secure_http  \n",
       "0  0  0  0   0          0             0            0  \n",
       "1  0  0  0   0          0             0            0  \n",
       "2  0  0  0   0          0             0            0  \n",
       "3  0  0  0   1          0             1            0  \n",
       "4  0  0  0   1          0             1            0  \n",
       "\n",
       "[5 rows x 22 columns]"
      ]
     },
     "execution_count": 29,
     "metadata": {},
     "output_type": "execute_result"
    }
   ],
   "source": [
    "url_data.head()"
   ]
  },
  {
   "cell_type": "markdown",
   "id": "1b2bfa74",
   "metadata": {},
   "source": [
    "### Checking if url has IP address"
   ]
  },
  {
   "cell_type": "code",
   "execution_count": 30,
   "id": "c6d8e773",
   "metadata": {},
   "outputs": [],
   "source": [
    "def contain_ip(url):\n",
    "    try:\n",
    "        parsed_url = urlparse(url)\n",
    "        if parsed_url.hostname:\n",
    "            ip = ipaddress.ip_address(parsed_url.hostname)\n",
    "            return isinstance(ip, (ipaddress.IPv4Address, ipaddress.IPv6Address))\n",
    "    except ValueError:\n",
    "        pass\n",
    "    return 0"
   ]
  },
  {
   "cell_type": "code",
   "execution_count": 31,
   "id": "d95a6011",
   "metadata": {},
   "outputs": [],
   "source": [
    "url_data['have_ip'] = url_data['url'].apply(lambda x: contain_ip(x))"
   ]
  },
  {
   "cell_type": "code",
   "execution_count": 32,
   "id": "302a7a49",
   "metadata": {},
   "outputs": [
    {
     "data": {
      "text/html": [
       "<div>\n",
       "<style scoped>\n",
       "    .dataframe tbody tr th:only-of-type {\n",
       "        vertical-align: middle;\n",
       "    }\n",
       "\n",
       "    .dataframe tbody tr th {\n",
       "        vertical-align: top;\n",
       "    }\n",
       "\n",
       "    .dataframe thead th {\n",
       "        text-align: right;\n",
       "    }\n",
       "</style>\n",
       "<table border=\"1\" class=\"dataframe\">\n",
       "  <thead>\n",
       "    <tr style=\"text-align: right;\">\n",
       "      <th></th>\n",
       "      <th>url</th>\n",
       "      <th>type</th>\n",
       "      <th>url_len</th>\n",
       "      <th>letters_count</th>\n",
       "      <th>digits_count</th>\n",
       "      <th>special_chars_count</th>\n",
       "      <th>@</th>\n",
       "      <th>?</th>\n",
       "      <th>-</th>\n",
       "      <th>=</th>\n",
       "      <th>...</th>\n",
       "      <th>+</th>\n",
       "      <th>$</th>\n",
       "      <th>!</th>\n",
       "      <th>*</th>\n",
       "      <th>,</th>\n",
       "      <th>//</th>\n",
       "      <th>shortened</th>\n",
       "      <th>abnormal_url</th>\n",
       "      <th>secure_http</th>\n",
       "      <th>have_ip</th>\n",
       "    </tr>\n",
       "  </thead>\n",
       "  <tbody>\n",
       "    <tr>\n",
       "      <th>0</th>\n",
       "      <td>br-icloud.com.br</td>\n",
       "      <td>1</td>\n",
       "      <td>16</td>\n",
       "      <td>13</td>\n",
       "      <td>0</td>\n",
       "      <td>3</td>\n",
       "      <td>0</td>\n",
       "      <td>0</td>\n",
       "      <td>1</td>\n",
       "      <td>0</td>\n",
       "      <td>...</td>\n",
       "      <td>0</td>\n",
       "      <td>0</td>\n",
       "      <td>0</td>\n",
       "      <td>0</td>\n",
       "      <td>0</td>\n",
       "      <td>0</td>\n",
       "      <td>0</td>\n",
       "      <td>0</td>\n",
       "      <td>0</td>\n",
       "      <td>0</td>\n",
       "    </tr>\n",
       "    <tr>\n",
       "      <th>1</th>\n",
       "      <td>mp3raid.com/music/krizz_kaliko.html</td>\n",
       "      <td>0</td>\n",
       "      <td>35</td>\n",
       "      <td>29</td>\n",
       "      <td>1</td>\n",
       "      <td>5</td>\n",
       "      <td>0</td>\n",
       "      <td>0</td>\n",
       "      <td>0</td>\n",
       "      <td>0</td>\n",
       "      <td>...</td>\n",
       "      <td>0</td>\n",
       "      <td>0</td>\n",
       "      <td>0</td>\n",
       "      <td>0</td>\n",
       "      <td>0</td>\n",
       "      <td>0</td>\n",
       "      <td>0</td>\n",
       "      <td>0</td>\n",
       "      <td>0</td>\n",
       "      <td>0</td>\n",
       "    </tr>\n",
       "    <tr>\n",
       "      <th>2</th>\n",
       "      <td>bopsecrets.org/rexroth/cr/1.htm</td>\n",
       "      <td>0</td>\n",
       "      <td>31</td>\n",
       "      <td>25</td>\n",
       "      <td>1</td>\n",
       "      <td>5</td>\n",
       "      <td>0</td>\n",
       "      <td>0</td>\n",
       "      <td>0</td>\n",
       "      <td>0</td>\n",
       "      <td>...</td>\n",
       "      <td>0</td>\n",
       "      <td>0</td>\n",
       "      <td>0</td>\n",
       "      <td>0</td>\n",
       "      <td>0</td>\n",
       "      <td>0</td>\n",
       "      <td>0</td>\n",
       "      <td>0</td>\n",
       "      <td>0</td>\n",
       "      <td>0</td>\n",
       "    </tr>\n",
       "    <tr>\n",
       "      <th>3</th>\n",
       "      <td>http://garage-pirenne.be/index.php?option=com_...</td>\n",
       "      <td>1</td>\n",
       "      <td>77</td>\n",
       "      <td>60</td>\n",
       "      <td>7</td>\n",
       "      <td>17</td>\n",
       "      <td>0</td>\n",
       "      <td>1</td>\n",
       "      <td>1</td>\n",
       "      <td>4</td>\n",
       "      <td>...</td>\n",
       "      <td>0</td>\n",
       "      <td>0</td>\n",
       "      <td>0</td>\n",
       "      <td>0</td>\n",
       "      <td>0</td>\n",
       "      <td>1</td>\n",
       "      <td>0</td>\n",
       "      <td>1</td>\n",
       "      <td>0</td>\n",
       "      <td>0</td>\n",
       "    </tr>\n",
       "    <tr>\n",
       "      <th>4</th>\n",
       "      <td>http://adventure-nicaragua.net/index.php?optio...</td>\n",
       "      <td>1</td>\n",
       "      <td>228</td>\n",
       "      <td>199</td>\n",
       "      <td>22</td>\n",
       "      <td>14</td>\n",
       "      <td>0</td>\n",
       "      <td>1</td>\n",
       "      <td>1</td>\n",
       "      <td>3</td>\n",
       "      <td>...</td>\n",
       "      <td>0</td>\n",
       "      <td>0</td>\n",
       "      <td>0</td>\n",
       "      <td>0</td>\n",
       "      <td>0</td>\n",
       "      <td>1</td>\n",
       "      <td>0</td>\n",
       "      <td>1</td>\n",
       "      <td>0</td>\n",
       "      <td>0</td>\n",
       "    </tr>\n",
       "  </tbody>\n",
       "</table>\n",
       "<p>5 rows × 23 columns</p>\n",
       "</div>"
      ],
      "text/plain": [
       "                                                 url  type  url_len  \\\n",
       "0                                   br-icloud.com.br     1       16   \n",
       "1                mp3raid.com/music/krizz_kaliko.html     0       35   \n",
       "2                    bopsecrets.org/rexroth/cr/1.htm     0       31   \n",
       "3  http://garage-pirenne.be/index.php?option=com_...     1       77   \n",
       "4  http://adventure-nicaragua.net/index.php?optio...     1      228   \n",
       "\n",
       "   letters_count  digits_count  special_chars_count  @  ?  -  =  ...  +  $  !  \\\n",
       "0             13             0                    3  0  0  1  0  ...  0  0  0   \n",
       "1             29             1                    5  0  0  0  0  ...  0  0  0   \n",
       "2             25             1                    5  0  0  0  0  ...  0  0  0   \n",
       "3             60             7                   17  0  1  1  4  ...  0  0  0   \n",
       "4            199            22                   14  0  1  1  3  ...  0  0  0   \n",
       "\n",
       "   *  ,  //  shortened  abnormal_url  secure_http  have_ip  \n",
       "0  0  0   0          0             0            0        0  \n",
       "1  0  0   0          0             0            0        0  \n",
       "2  0  0   0          0             0            0        0  \n",
       "3  0  0   1          0             1            0        0  \n",
       "4  0  0   1          0             1            0        0  \n",
       "\n",
       "[5 rows x 23 columns]"
      ]
     },
     "execution_count": 32,
     "metadata": {},
     "output_type": "execute_result"
    }
   ],
   "source": [
    "url_data.head()"
   ]
  },
  {
   "cell_type": "code",
   "execution_count": 49,
   "id": "eba47957",
   "metadata": {},
   "outputs": [
    {
     "data": {
      "text/plain": [
       "(651191, 23)"
      ]
     },
     "execution_count": 49,
     "metadata": {},
     "output_type": "execute_result"
    }
   ],
   "source": [
    "url_data.shape\n"
   ]
  },
  {
   "cell_type": "code",
   "execution_count": 51,
   "id": "3aed0449",
   "metadata": {},
   "outputs": [
    {
     "data": {
      "text/plain": [
       "url                    0\n",
       "type                   0\n",
       "url_len                0\n",
       "letters_count          0\n",
       "digits_count           0\n",
       "special_chars_count    0\n",
       "@                      0\n",
       "?                      0\n",
       "-                      0\n",
       "=                      0\n",
       ".                      0\n",
       "#                      0\n",
       "%                      0\n",
       "+                      0\n",
       "$                      0\n",
       "!                      0\n",
       "*                      0\n",
       ",                      0\n",
       "//                     0\n",
       "shortened              0\n",
       "abnormal_url           0\n",
       "secure_http            0\n",
       "have_ip                0\n",
       "dtype: int64"
      ]
     },
     "execution_count": 51,
     "metadata": {},
     "output_type": "execute_result"
    }
   ],
   "source": [
    "url_data.isnull().sum()\n"
   ]
  },
  {
   "cell_type": "code",
   "execution_count": 54,
   "id": "4afcc2b4",
   "metadata": {},
   "outputs": [],
   "source": [
    "X = url_data.drop(['url','type'],axis=1)#,'type_code'\n",
    "y = url_data['type']"
   ]
  },
  {
   "cell_type": "code",
   "execution_count": 55,
   "id": "7072c467",
   "metadata": {},
   "outputs": [],
   "source": [
    "X_train, X_test, y_train, y_test = train_test_split(X, y, test_size=0.2, random_state=2)"
   ]
  },
  {
   "cell_type": "code",
   "execution_count": 56,
   "id": "1604e324",
   "metadata": {},
   "outputs": [
    {
     "name": "stdout",
     "output_type": "stream",
     "text": [
      "#############################################\n",
      "######-Model =>\u001b[07m <class 'sklearn.tree._classes.DecisionTreeClassifier'> \u001b[0m\n",
      "Test Accuracy :\u001b[32m \u001b[01m 92.75% \u001b[30m \u001b[0m\n",
      "\u001b[01m              Classification_report \u001b[0m\n",
      "              precision    recall  f1-score   support\n",
      "\n",
      "           0       0.92      0.97      0.95     85565\n",
      "           1       0.95      0.84      0.89     44674\n",
      "\n",
      "    accuracy                           0.93    130239\n",
      "   macro avg       0.93      0.91      0.92    130239\n",
      "weighted avg       0.93      0.93      0.93    130239\n",
      "\n",
      "\u001b[01m             Confusion_matrix \u001b[0m\n"
     ]
    },
    {
     "data": {
      "image/png": "[encoded data removed]",
      "text/plain": [
       "<Figure size 640x480 with 2 Axes>"
      ]
     },
     "metadata": {},
     "output_type": "display_data"
    },
    {
     "name": "stdout",
     "output_type": "stream",
     "text": [
      "\u001b[31m###################- End -###################\u001b[0m\n",
      "#############################################\n",
      "######-Model =>\u001b[07m <class 'sklearn.ensemble._forest.RandomForestClassifier'> \u001b[0m\n",
      "Test Accuracy :\u001b[32m \u001b[01m 93.14% \u001b[30m \u001b[0m\n",
      "\u001b[01m              Classification_report \u001b[0m\n",
      "              precision    recall  f1-score   support\n",
      "\n",
      "           0       0.92      0.98      0.95     85565\n",
      "           1       0.95      0.84      0.89     44674\n",
      "\n",
      "    accuracy                           0.93    130239\n",
      "   macro avg       0.94      0.91      0.92    130239\n",
      "weighted avg       0.93      0.93      0.93    130239\n",
      "\n",
      "\u001b[01m             Confusion_matrix \u001b[0m\n"
     ]
    },
    {
     "data": {
      "image/png": "[encoded data removed]",
      "text/plain": [
       "<Figure size 640x480 with 2 Axes>"
      ]
     },
     "metadata": {},
     "output_type": "display_data"
    },
    {
     "name": "stdout",
     "output_type": "stream",
     "text": [
      "\u001b[31m###################- End -###################\u001b[0m\n",
      "#############################################\n",
      "######-Model =>\u001b[07m <class 'sklearn.ensemble._weight_boosting.AdaBoostClassifier'> \u001b[0m\n",
      "Test Accuracy :\u001b[32m \u001b[01m 88.59% \u001b[30m \u001b[0m\n",
      "\u001b[01m              Classification_report \u001b[0m\n",
      "              precision    recall  f1-score   support\n",
      "\n",
      "           0       0.87      0.97      0.92     85565\n",
      "           1       0.93      0.72      0.81     44674\n",
      "\n",
      "    accuracy                           0.89    130239\n",
      "   macro avg       0.90      0.85      0.87    130239\n",
      "weighted avg       0.89      0.89      0.88    130239\n",
      "\n",
      "\u001b[01m             Confusion_matrix \u001b[0m\n"
     ]
    },
    {
     "data": {
      "image/png": "[encoded data removed]",
      "text/plain": [
       "<Figure size 640x480 with 2 Axes>"
      ]
     },
     "metadata": {},
     "output_type": "display_data"
    },
    {
     "name": "stdout",
     "output_type": "stream",
     "text": [
      "\u001b[31m###################- End -###################\u001b[0m\n",
      "#############################################\n",
      "######-Model =>\u001b[07m <class 'sklearn.neighbors._classification.KNeighborsClassifier'> \u001b[0m\n"
     ]
    },
    {
     "name": "stderr",
     "output_type": "stream",
     "text": [
      "D:\\Anaconda\\lib\\site-packages\\sklearn\\neighbors\\_classification.py:228: FutureWarning: Unlike other reduction functions (e.g. `skew`, `kurtosis`), the default behavior of `mode` typically preserves the axis it acts along. In SciPy 1.11.0, this behavior will change: the default value of `keepdims` will become False, the `axis` over which the statistic is taken will be eliminated, and the value None will no longer be accepted. Set `keepdims` to True or False to avoid this warning.\n",
      "  mode, _ = stats.mode(_y[neigh_ind, k], axis=1)\n"
     ]
    },
    {
     "name": "stdout",
     "output_type": "stream",
     "text": [
      "Test Accuracy :\u001b[32m \u001b[01m 91.72% \u001b[30m \u001b[0m\n",
      "\u001b[01m              Classification_report \u001b[0m\n",
      "              precision    recall  f1-score   support\n",
      "\n",
      "           0       0.91      0.97      0.94     85565\n",
      "           1       0.93      0.82      0.87     44674\n",
      "\n",
      "    accuracy                           0.92    130239\n",
      "   macro avg       0.92      0.90      0.91    130239\n",
      "weighted avg       0.92      0.92      0.92    130239\n",
      "\n",
      "\u001b[01m             Confusion_matrix \u001b[0m\n"
     ]
    },
    {
     "data": {
      "image/png": "[encoded data removed]",
      "text/plain": [
       "<Figure size 640x480 with 2 Axes>"
      ]
     },
     "metadata": {},
     "output_type": "display_data"
    },
    {
     "name": "stdout",
     "output_type": "stream",
     "text": [
      "\u001b[31m###################- End -###################\u001b[0m\n",
      "#############################################\n",
      "######-Model =>\u001b[07m <class 'sklearn.linear_model._stochastic_gradient.SGDClassifier'> \u001b[0m\n",
      "Test Accuracy :\u001b[32m \u001b[01m 85.87% \u001b[30m \u001b[0m\n",
      "\u001b[01m              Classification_report \u001b[0m\n",
      "              precision    recall  f1-score   support\n",
      "\n",
      "           0       0.85      0.96      0.90     85565\n",
      "           1       0.90      0.66      0.76     44674\n",
      "\n",
      "    accuracy                           0.86    130239\n",
      "   macro avg       0.87      0.81      0.83    130239\n",
      "weighted avg       0.86      0.86      0.85    130239\n",
      "\n",
      "\u001b[01m             Confusion_matrix \u001b[0m\n"
     ]
    },
    {
     "data": {
      "image/png": "[encoded data removed]",
      "text/plain": [
       "<Figure size 640x480 with 2 Axes>"
      ]
     },
     "metadata": {},
     "output_type": "display_data"
    },
    {
     "name": "stdout",
     "output_type": "stream",
     "text": [
      "\u001b[31m###################- End -###################\u001b[0m\n",
      "#############################################\n",
      "######-Model =>\u001b[07m <class 'sklearn.ensemble._forest.ExtraTreesClassifier'> \u001b[0m\n",
      "Test Accuracy :\u001b[32m \u001b[01m 93.19% \u001b[30m \u001b[0m\n",
      "\u001b[01m              Classification_report \u001b[0m\n",
      "              precision    recall  f1-score   support\n",
      "\n",
      "           0       0.92      0.98      0.95     85565\n",
      "           1       0.96      0.84      0.89     44674\n",
      "\n",
      "    accuracy                           0.93    130239\n",
      "   macro avg       0.94      0.91      0.92    130239\n",
      "weighted avg       0.93      0.93      0.93    130239\n",
      "\n",
      "\u001b[01m             Confusion_matrix \u001b[0m\n"
     ]
    },
    {
     "data": {
      "image/png": "[encoded data removed]",
      "text/plain": [
       "<Figure size 640x480 with 2 Axes>"
      ]
     },
     "metadata": {},
     "output_type": "display_data"
    },
    {
     "name": "stdout",
     "output_type": "stream",
     "text": [
      "\u001b[31m###################- End -###################\u001b[0m\n",
      "#############################################\n",
      "######-Model =>\u001b[07m <class 'sklearn.naive_bayes.GaussianNB'> \u001b[0m\n",
      "Test Accuracy :\u001b[32m \u001b[01m 76.01% \u001b[30m \u001b[0m\n",
      "\u001b[01m              Classification_report \u001b[0m\n",
      "              precision    recall  f1-score   support\n",
      "\n",
      "           0       0.74      0.99      0.84     85565\n",
      "           1       0.92      0.33      0.48     44674\n",
      "\n",
      "    accuracy                           0.76    130239\n",
      "   macro avg       0.83      0.66      0.66    130239\n",
      "weighted avg       0.80      0.76      0.72    130239\n",
      "\n",
      "\u001b[01m             Confusion_matrix \u001b[0m\n"
     ]
    },
    {
     "data": {
      "image/png": "[encoded data removed]",
      "text/plain": [
       "<Figure size 640x480 with 2 Axes>"
      ]
     },
     "metadata": {},
     "output_type": "display_data"
    },
    {
     "name": "stdout",
     "output_type": "stream",
     "text": [
      "\u001b[31m###################- End -###################\u001b[0m\n"
     ]
    }
   ],
   "source": [
    "models = [DecisionTreeClassifier,RandomForestClassifier,AdaBoostClassifier,KNeighborsClassifier,SGDClassifier,\n",
    "         ExtraTreesClassifier,GaussianNB]\n",
    "accuracy_test=[]\n",
    "for m in models:\n",
    "    print('#############################################')\n",
    "    print('######-Model =>\\033[07m {} \\033[0m'.format(m))\n",
    "    model_ = m()\n",
    "    model_.fit(X_train, y_train)\n",
    "    pred = model_.predict(X_test)\n",
    "    acc = accuracy_score(pred, y_test)\n",
    "    accuracy_test.append(acc)\n",
    "    print('Test Accuracy :\\033[32m \\033[01m {:.2f}% \\033[30m \\033[0m'.format(acc*100))\n",
    "    print('\\033[01m              Classification_report \\033[0m')\n",
    "    print(classification_report(y_test, pred))\n",
    "    print('\\033[01m             Confusion_matrix \\033[0m')\n",
    "    cf_matrix = confusion_matrix(y_test, pred)\n",
    "    plot_ = sns.heatmap(cf_matrix/np.sum(cf_matrix), annot=True,fmt= '0.2%')\n",
    "    plt.show()\n",
    "    print('\\033[31m###################- End -###################\\033[0m')"
   ]
  },
  {
   "cell_type": "code",
   "execution_count": null,
   "id": "990a923a",
   "metadata": {},
   "outputs": [],
   "source": []
  }
 ],
 "metadata": {
  "kernelspec": {
   "display_name": "Python 3 (ipykernel)",
   "language": "python",
   "name": "python3"
  },
  "language_info": {
   "codemirror_mode": {
    "name": "ipython",
    "version": 3
   },
   "file_extension": ".py",
   "mimetype": "text/x-python",
   "name": "python",
   "nbconvert_exporter": "python",
   "pygments_lexer": "ipython3",
   "version": "3.9.13"
  }
 },
 "nbformat": 4,
 "nbformat_minor": 5
}
